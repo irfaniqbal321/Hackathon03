{
  "nbformat": 4,
  "nbformat_minor": 0,
  "metadata": {
    "colab": {
      "provenance": [],
      "authorship_tag": "ABX9TyNZqvsLGoGScr7mjZrESB8y",
      "include_colab_link": true
    },
    "kernelspec": {
      "name": "python3",
      "display_name": "Python 3"
    },
    "language_info": {
      "name": "python"
    }
  },
  "cells": [
    {
      "cell_type": "markdown",
      "metadata": {
        "id": "view-in-github",
        "colab_type": "text"
      },
      "source": [
        "<a href=\"https://colab.research.google.com/github/irfaniqbal321/Hackathon03/blob/main/00_intro_python.ipynb\" target=\"_parent\"><img src=\"https://colab.research.google.com/assets/colab-badge.svg\" alt=\"Open In Colab\"/></a>"
      ]
    },
    {
      "cell_type": "markdown",
      "source": [],
      "metadata": {
        "id": "DjkW69L5B76T"
      }
    },
    {
      "cell_type": "code",
      "source": [
        "#add_sum_num#\n",
        "def main():\n",
        "    # Get first number from user\n",
        "    num1 = int(input(\"Enter the first number: \"))\n",
        "\n",
        "    # Get second number from user\n",
        "    num2 = int(input(\"Enter the second number: \"))\n",
        "\n",
        "    # Calculate sum\n",
        "    total = num1 + num2\n",
        "\n",
        "    # Display result\n",
        "    print(f\"The sum of {num1} and {num2} is: {total}\")\n",
        "\n",
        "if __name__ == \"__main__\":\n",
        "    main() # Call the main function to execute the code"
      ],
      "metadata": {
        "colab": {
          "base_uri": "https://localhost:8080/"
        },
        "id": "U4N-Q6REDp-u",
        "outputId": "b189c4f4-4dab-4f06-d275-8254444deb96"
      },
      "execution_count": 10,
      "outputs": [
        {
          "output_type": "stream",
          "name": "stdout",
          "text": [
            "Enter the first number: 33\n",
            "Enter the second number: 22\n",
            "The sum of 33 and 22 is: 55\n"
          ]
        }
      ]
    },
    {
      "cell_type": "code",
      "source": [
        "#02_agreement#\n",
        "def main():\n",
        "    # Get the user's favorite animal\n",
        "    animal = input(\"\\033[1;3m What's your favorite animal__ \")\n",
        "\n",
        "    # Print response using the user's input\n",
        "    print(f\"My favorite animal is also {animal}!\")\n",
        "\n",
        "if __name__ == \"__main__\":\n",
        "    main()\n"
      ],
      "metadata": {
        "colab": {
          "base_uri": "https://localhost:8080/"
        },
        "id": "Si_Z9cZFEIkk",
        "outputId": "a53bd93e-38e1-4c03-cde1-31bdb0b6d17a"
      },
      "execution_count": 11,
      "outputs": [
        {
          "output_type": "stream",
          "name": "stdout",
          "text": [
            "\u001b[1;3m What's your favorite animal__ tiger\n",
            "My favorite animal is also tiger!\n"
          ]
        }
      ]
    },
    {
      "cell_type": "code",
      "source": [
        "#farenhydrate#\n",
        "# Get temperature in Fahrenheit from user\n",
        "fahrenheit = float(input(\"Enter temperature in Fahrenheit: \"))\n",
        "\n",
        "# Convert to Celsius using the formula\n",
        "celsius = (fahrenheit - 32) * 5.0/9.0\n",
        "\n",
        "# Print the result with proper formatting\n",
        "print(f\"Temperature: {fahrenheit}F = {celsius}C\")\n"
      ],
      "metadata": {
        "colab": {
          "base_uri": "https://localhost:8080/"
        },
        "id": "uz_EHlTUEier",
        "outputId": "b7155f90-20fa-439e-b704-29684c2a498c"
      },
      "execution_count": 12,
      "outputs": [
        {
          "output_type": "stream",
          "name": "stdout",
          "text": [
            "Enter temperature in Fahrenheit: 30\n",
            "Temperature: 30.0F = -1.1111111111111112C\n"
          ]
        }
      ]
    },
    {
      "cell_type": "code",
      "source": [
        "#how_old_are_they#\n",
        "# Calculate ages based on given relationships\n",
        "anton_age = 21\n",
        "beth_age = anton_age + 6\n",
        "chen_age = beth_age + 20\n",
        "drew_age = chen_age + anton_age\n",
        "ethan_age = chen_age\n",
        "\n",
        "# Print the results in the required format\n",
        "print(f\"Anton is {anton_age}\")\n",
        "print(f\"Beth is {beth_age}\")\n",
        "print(f\"Chen is {chen_age}\")\n",
        "print(f\"Drew is {drew_age}\")\n",
        "print(f\"Ethan is {ethan_age}\")\n"
      ],
      "metadata": {
        "colab": {
          "base_uri": "https://localhost:8080/"
        },
        "id": "u1N8cr-WE1YA",
        "outputId": "2222dc2d-0e2c-4913-8e5f-ea9129c840dc"
      },
      "execution_count": 13,
      "outputs": [
        {
          "output_type": "stream",
          "name": "stdout",
          "text": [
            "Anton is 21\n",
            "Beth is 27\n",
            "Chen is 47\n",
            "Drew is 68\n",
            "Ethan is 47\n"
          ]
        }
      ]
    },
    {
      "cell_type": "code",
      "source": [
        "#square_num#\n",
        "# Ask the user for a number and print its square\n",
        "number = float(input(\"Type a number to see its square: \"))\n",
        "square = number * number\n",
        "print(f\"{number} squared is {square}\")\n"
      ],
      "metadata": {
        "colab": {
          "base_uri": "https://localhost:8080/"
        },
        "id": "iLet7AJbFHQY",
        "outputId": "e568c678-5188-4028-eed6-9643955649f5"
      },
      "execution_count": 14,
      "outputs": [
        {
          "output_type": "stream",
          "name": "stdout",
          "text": [
            "Type a number to see its square: 4\n",
            "4.0 squared is 16.0\n"
          ]
        }
      ]
    },
    {
      "cell_type": "code",
      "source": [
        "#triangle#\n",
        "# Prompt the user for the lengths of each side of the triangle\n",
        "side1 = float(input(\"What is the length of side 1? \"))\n",
        "side2 = float(input(\"What is the length of side 2? \"))\n",
        "side3 = float(input(\"What is the length of side 3? \"))\n",
        "\n",
        "# Calculate the perimeter\n",
        "perimeter = side1 + side2 + side3\n",
        "\n",
        "# Print the result\n",
        "print(f\"The perimeter of the triangle is {perimeter}\")\n"
      ],
      "metadata": {
        "colab": {
          "base_uri": "https://localhost:8080/"
        },
        "id": "6NRPwH1KFYGk",
        "outputId": "259bf847-10bf-4c00-f434-7a1e21355f5a"
      },
      "execution_count": 15,
      "outputs": [
        {
          "output_type": "stream",
          "name": "stdout",
          "text": [
            "What is the length of side 1? 3\n",
            "What is the length of side 2? 5\n",
            "What is the length of side 3? 2\n",
            "The perimeter of the triangle is 10.0\n"
          ]
        }
      ]
    },
    {
      "cell_type": "code",
      "source": [],
      "metadata": {
        "id": "3Jmsu-yPFT6T"
      },
      "execution_count": null,
      "outputs": []
    },
    {
      "cell_type": "code",
      "source": [],
      "metadata": {
        "id": "2KAw3jdDDqMc"
      },
      "execution_count": null,
      "outputs": []
    },
    {
      "cell_type": "markdown",
      "source": [],
      "metadata": {
        "id": "5WYEqiWqCEEI"
      }
    },
    {
      "cell_type": "markdown",
      "source": [],
      "metadata": {
        "id": "o7LR80k3CNvN"
      }
    }
  ]
}